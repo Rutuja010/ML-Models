{
 "cells": [
  {
   "cell_type": "markdown",
   "id": "c0372f1e",
   "metadata": {},
   "source": [
    "#1. State the Hypotheses:\n",
    "Null Hypothesis:\n",
    " There is no association between the type of smart home device purchased and the customer satisfaction level.\n",
    "\n",
    "Alternative Hypothesis:\n",
    "There is an association between the type of smart home device purchased and the customer satisfaction level."
   ]
  },
  {
   "cell_type": "code",
   "execution_count": 4,
   "id": "d6d864b0",
   "metadata": {},
   "outputs": [
    {
     "name": "stdout",
     "output_type": "stream",
     "text": [
      "Chi-Square Statistic: 5.638227513227513\n",
      "P-value: 0.22784371130697179\n",
      "Degrees of Freedom: 4\n",
      "Expected Frequencies:\n",
      "[[ 48.  72.]\n",
      " [ 72. 108.]\n",
      " [ 60.  90.]\n",
      " [ 32.  48.]\n",
      " [ 28.  42.]]\n"
     ]
    }
   ],
   "source": [
    "#2. Compute the Chi-Square Statistic:\n",
    "import numpy as np\n",
    "from scipy.stats import chi2_contingency\n",
    "\n",
    "# Define the observed frequencies as a 2D array\n",
    "observed = np.array([\n",
    "    [50, 70],   # Very Satisfied\n",
    "    [80, 100],  # Satisfied\n",
    "    [60, 90],   # Neutral\n",
    "    [30, 50],   # Unsatisfied\n",
    "    [20, 50]    # Very Unsatisfied\n",
    "])\n",
    "\n",
    "# Perform the Chi-Square test\n",
    "chi2, p, dof, expected = chi2_contingency(observed)\n",
    "\n",
    "# Print the results\n",
    "print(f\"Chi-Square Statistic: {chi2}\")\n",
    "print(f\"P-value: {p}\")\n",
    "print(f\"Degrees of Freedom: {dof}\")\n",
    "print(\"Expected Frequencies:\")\n",
    "print(expected)\n"
   ]
  },
  {
   "cell_type": "code",
   "execution_count": 3,
   "id": "3df3af50",
   "metadata": {},
   "outputs": [
    {
     "name": "stdout",
     "output_type": "stream",
     "text": [
      "Critical Value: 9.487729036781154\n"
     ]
    }
   ],
   "source": [
    "from scipy.stats import chi2\n",
    "\n",
    "# Define the significance level and degrees of freedom\n",
    "alpha = 0.05\n",
    "df = 4\n",
    "\n",
    "# Find the critical value\n",
    "critical_value = chi2.ppf(1 - alpha, df)\n",
    "\n",
    "print(f\"Critical Value: {critical_value}\")\n"
   ]
  },
  {
   "cell_type": "markdown",
   "id": "08303737",
   "metadata": {},
   "source": [
    " #4. Make a Decision:\n",
    "If the Chi-Square statistic is greater than the critical value, reject the null hypothesis.\n",
    "If the Chi-Square statistic is less than or equal to the critical value, fail to reject the null hypothesis.\n",
    "\n",
    "Since 6.728 < 9.488, the Chi-Square statistic is less than the critical value.\n",
    "\n",
    "Fail to reject the null hypothesis.\n",
    "\n",
    "Conclusion:\n",
    "There is no significant association between the type of smart home device purchased (Smart Thermostat vs. Smart Light)\n",
    "and the customer's satisfaction level at the 0.05 significance level. This means that the observed differences in satisfaction levels for the two types of devices are not statistically significant."
   ]
  }
 ],
 "metadata": {
  "kernelspec": {
   "display_name": "Python 3 (ipykernel)",
   "language": "python",
   "name": "python3"
  },
  "language_info": {
   "codemirror_mode": {
    "name": "ipython",
    "version": 3
   },
   "file_extension": ".py",
   "mimetype": "text/x-python",
   "name": "python",
   "nbconvert_exporter": "python",
   "pygments_lexer": "ipython3",
   "version": "3.11.5"
  }
 },
 "nbformat": 4,
 "nbformat_minor": 5
}
