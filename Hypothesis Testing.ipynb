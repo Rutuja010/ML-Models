{
 "cells": [
  {
   "cell_type": "markdown",
   "id": "cce3dc74",
   "metadata": {},
   "source": [
    "#### 1. State the Hypotheses statement:\n",
    "Null Hypothesis (H₀): The current cost model accurately represents the operating costs for producing exotic Norwegian \n",
    "                      dinners in a week, with a cost function W = $1,000 + $5X.\n",
    "\n",
    "Alternative Hypothesis (H₁): The current cost model does not accurately represent the operating costs for producing exotic\n",
    "                       Norwegian dinners in a week, and the actual costs are higher than predicted by the model."
   ]
  },
  {
   "cell_type": "markdown",
   "id": "19242b4f",
   "metadata": {},
   "source": [
    "2. Calculate the Test Statistic:\n",
    "let's calculate the theoretical mean weekly cost (μ) using the cost model:\n",
    "W=$1,000 + $5X \n",
    "𝑊=$1,000 + $5(600) = $1,000 + $3,000 = $4,000 \n",
    "Now, calculate the standard error (SE), which is the standard deviation of the sample mean:\n",
    "T-Test=ˉX-μ/σ/n \n",
    "=3050-4000/125/5\n",
    "=-38\n",
    "so, the statistic(t) is -38.\n"
   ]
  },
  {
   "cell_type": "markdown",
   "id": "faac9256",
   "metadata": {},
   "source": [
    "#### 3. Determine the Critical Value:\n",
    "5%=0.05\n",
    "z=1.96"
   ]
  },
  {
   "cell_type": "markdown",
   "id": "f1c0cfbb",
   "metadata": {},
   "source": [
    "4. Make a Decision:\n",
    " our test statistic (|t| = 38) is much larger in magnitude than the critical value (±2.064), we would reject the null hypothesis. This means there's strong evidence to suggest that the observed weekly operating costs are significantly higher than predicted by the current cost model."
   ]
  },
  {
   "cell_type": "markdown",
   "id": "4a82969e",
   "metadata": {},
   "source": [
    "#### 5. Conclusion:\n",
    " The conclusion supports the restaurant owners' claim, suggesting that adjustments or revisions to the cost model may be necessary to better reflect the true operating costs for producing exotic Norwegian dinners in a week within the New England franchise."
   ]
  }
 ],
 "metadata": {
  "kernelspec": {
   "display_name": "Python 3 (ipykernel)",
   "language": "python",
   "name": "python3"
  },
  "language_info": {
   "codemirror_mode": {
    "name": "ipython",
    "version": 3
   },
   "file_extension": ".py",
   "mimetype": "text/x-python",
   "name": "python",
   "nbconvert_exporter": "python",
   "pygments_lexer": "ipython3",
   "version": "3.11.5"
  }
 },
 "nbformat": 4,
 "nbformat_minor": 5
}
